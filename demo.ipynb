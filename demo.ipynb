{
 "cells": [
  {
   "cell_type": "code",
   "execution_count": 2,
   "metadata": {},
   "outputs": [
    {
     "name": "stdout",
     "output_type": "stream",
     "text": [
      "mars\n",
      "earth\n",
      "New Planet 1: mars & New Planet 2 earth\n"
     ]
    }
   ],
   "source": [
    "planet1 = 'earth' \n",
    "planet2 = 'mars' \n",
    "planet2, planet1 = planet1, planet2 \n",
    "print (planet1) \n",
    "print (planet2)\n",
    "\n",
    "print (f\"New Planet 1: {planet1} & New Planet 2 {planet2}\")"
   ]
  }
 ],
 "metadata": {
  "kernelspec": {
   "display_name": "Python 3",
   "language": "python",
   "name": "python3"
  },
  "language_info": {
   "codemirror_mode": {
    "name": "ipython",
    "version": 3
   },
   "file_extension": ".py",
   "mimetype": "text/x-python",
   "name": "python",
   "nbconvert_exporter": "python",
   "pygments_lexer": "ipython3",
   "version": "3.11.3"
  },
  "orig_nbformat": 4
 },
 "nbformat": 4,
 "nbformat_minor": 2
}
